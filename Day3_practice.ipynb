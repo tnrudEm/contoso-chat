{
  "cells": [
    {
      "cell_type": "markdown",
      "metadata": {
        "id": "Z0DrQhgJlCU6"
      },
      "source": [
        "# Problem 5: DQN (Deep Q Network)"
      ]
    },
    {
      "cell_type": "code",
      "execution_count": 1,
      "metadata": {
        "id": "dcsQoO_ElCU7"
      },
      "outputs": [],
      "source": [
        "import gymnasium as gym\n",
        "import numpy as np\n",
        "import random\n",
        "import torch\n",
        "import torch.nn as nn\n",
        "import torch.optim as optim\n",
        "import matplotlib.pyplot as plt\n",
        "import imageio\n",
        "\n",
        "from typing import Dict, List, Union, Tuple, Optional\n",
        "from copy import deepcopy"
      ]
    },
    {
      "cell_type": "markdown",
      "metadata": {
        "id": "NEnanL86lCU8"
      },
      "source": [
        "## Cart Pole\n",
        "\n",
        "### Observation Space\n",
        "The observation is a ndarray with shape (4,) with the values corresponding to the following positions and velocities:\n",
        "\n",
        "### Action Space\n",
        "The action is a ndarray with shape (1,) which can take values {0, 1} indicating the direction of the fixed force the cart is pushed with.\n",
        "\n",
        "$\\cdot$ 0: Push cart to the left\n",
        "\n",
        "$\\cdot$ 1: Push cart to the right\n",
        "\n",
        "Note: The velocity that is reduced or increased by the applied force is not fixed and it depends on the angle the pole is pointing. The center of gravity of the pole varies the amount of energy needed to move the cart underneath it\n",
        "\n",
        "### Rewards\n",
        "Since the goal is to keep the pole upright for as long as possible, a reward of +1 for every step taken, including the termination step, is allotted. The threshold for rewards is 500 for v1 and 200 for v0.\n",
        "\n",
        "Reference: https://gymnasium.farama.org/environments/classic_control/cart_pole/"
      ]
    },
    {
      "cell_type": "code",
      "execution_count": 2,
      "metadata": {
        "colab": {
          "base_uri": "https://localhost:8080/",
          "height": 367
        },
        "id": "Cl_kOjTRlCU8",
        "outputId": "121e3415-98b9-4a04-da5f-5afb5de6eb20"
      },
      "outputs": [
        {
          "output_type": "display_data",
          "data": {
            "text/plain": [
              "<Figure size 640x480 with 1 Axes>"
            ],
            "image/png": "[encoded data removed]"
          },
          "metadata": {}
        }
      ],
      "source": [
        "env = gym.make(\"CartPole-v1\", render_mode=\"rgb_array\")\n",
        "obs, info = env.reset(seed=1)\n",
        "\n",
        "img = env.render()\n",
        "\n",
        "plt.imshow(img)\n",
        "plt.axis(\"off\")\n",
        "plt.show()"
      ]
    },
    {
      "cell_type": "markdown",
      "metadata": {
        "id": "gwnNOODklCU9"
      },
      "source": [
        "## Mountain Car\n",
        "\n",
        "### Observation Space\n",
        "The observation is a ndarray with shape (2,) with the values corresponding to the following positions and velocities:\n",
        "\n",
        "### Action Space\n",
        "There are 3 discrete deterministic actions:\n",
        "\n",
        "$\\cdot$ 0: Accelerate to the left\n",
        "\n",
        "$\\cdot$ 1: Don’t accelerate\n",
        "\n",
        "$\\cdot$ 2: Accelerate to the right\n",
        "\n",
        "Note: The velocity that is reduced or increased by the applied force is not fixed and it depends on the angle the pole is pointing. The center of gravity of the pole varies the amount of energy needed to move the cart underneath it\n",
        "\n",
        "### Rewards\n",
        "The goal is to reach the flag placed on top of the right hill as quickly as possible, as such the agent is penalised with a reward of -1 for each timestep.\n",
        "\n",
        "Reference: https://gymnasium.farama.org/environments/classic_control/mountain_car/"
      ]
    },
    {
      "cell_type": "code",
      "execution_count": 3,
      "metadata": {
        "colab": {
          "base_uri": "https://localhost:8080/",
          "height": 367
        },
        "id": "jQ7L4AQxlCU9",
        "outputId": "28b80988-d6e6-4c3c-ba90-1089d8cedbaf"
      },
      "outputs": [
        {
          "output_type": "display_data",
          "data": {
            "text/plain": [
              "<Figure size 640x480 with 1 Axes>"
            ],
            "image/png": "[encoded data removed]"
          },
          "metadata": {}
        }
      ],
      "source": [
        "env = gym.make(\"MountainCar-v0\", render_mode=\"rgb_array\")\n",
        "obs, info = env.reset(seed=1)\n",
        "\n",
        "img = env.render()\n",
        "\n",
        "plt.imshow(img)\n",
        "plt.axis(\"off\")\n",
        "plt.show()"
      ]
    },
    {
      "cell_type": "markdown",
      "metadata": {
        "id": "gYzrtEZYlCU9"
      },
      "source": [
        "## Start Algorithm"
      ]
    },
    {
      "cell_type": "markdown",
      "metadata": {
        "id": "HUZE9xMdlCU9"
      },
      "source": [
        "In this lab, we will apply deep learning as function approximations in reinforcement learning.\n",
        "\n",
        "Reference: DQN https://arxiv.org/abs/1312.5602\n",
        "\n",
        "In tabular Q-learning, we maintain a table of state-action pairs $(s,a)$ and save one action value for each entry $Q(s,a),\\forall (s,a)$. At each time step $t$, we are in state $s_t$, then we choose action based on $\\epsilon$-greedy strategy. With prob $\\epsilon$, choose action uniformly random; with prob $1-\\epsilon$, choose action based on $$a_t = \\arg\\max_a Q(s_t,a)$$\n",
        "\n",
        "We then get the instant reward $r_t$, update the Q-table using the following rule\n",
        "\n",
        "$$Q(s_t,a_t) \\leftarrow (1-\\alpha)Q(s_t,a_t) + \\alpha (r_t + \\max_a \\gamma Q(s_{t+1},a))$$\n",
        "\n",
        "where $\\alpha \\in (0,1)$ is learning rate. The algorithm is shown to converge in tabular cases. However, in cases where we cannot keep a table for state and action, we need function approximation. Consider using neural network with parameter $\\theta$, the network takes as input state $s$ and action $a$. (*there are alternative parameterizations here*). Let $Q_\\theta(s,a)$ be the output of the network, to estimate the optimal action value function in state $s$ and take action $a$ (and follow optimal policy thereafter).\n",
        "\n",
        "$$Q_\\theta(s,a) \\approx Q^\\ast(s,a)$$"
      ]
    },
    {
      "cell_type": "markdown",
      "metadata": {
        "id": "A9p-UxdUlCU9"
      },
      "source": [
        "### Bellman optimality equation\n",
        "\n",
        "We will use Bellman optimality equation to find $\\theta$ such that the above approximation holds better. Recall that for optimal Q function $Q^\\ast(s,a)$ the following holds for all $(s,a)$\n",
        "\n",
        "$$Q^\\ast(s_t,a_t) = \\max_a \\mathbb{E}\\big[r_t + \\gamma Q^\\ast(s_{t+1},a)\\big]$$\n",
        "\n",
        "Hence a natural objective to consider is\n",
        "\n",
        "$$\\min_\\theta\\  \\left(Q_\\theta(s_t,a_t) - \\max_a \\mathbb{E}\\big[r_t + \\gamma Q_\\theta(s_{t+1},a)\\big]\\right)^2$$\n",
        "\n",
        "Let us first build a neural network $Q_\\theta(s,a)$ as required above."
      ]
    },
    {
      "cell_type": "code",
      "execution_count": 4,
      "metadata": {
        "id": "_9jWd_nPlCU9"
      },
      "outputs": [],
      "source": [
        "# Define the Q-network\n",
        "class QNetwork(nn.Module):\n",
        "    def __init__(\n",
        "        self,\n",
        "        input_dim: int,\n",
        "        output_dim: int,\n",
        "        hidden_dims:[List[int]],\n",
        "        activation: nn.Module = nn.ReLU,\n",
        "    ) -> None:\n",
        "        super(QNetwork, self).__init__()\n",
        "        hidden_dims = [input_dim] + list(hidden_dims)\n",
        "        model = []\n",
        "\n",
        "        #################################################################\n",
        "        #                             TODO                              #\n",
        "        #################################################################\n",
        "        \"\"\"\n",
        "        Model Sequential:\n",
        "        input -> hidden(1) -> hidden(2) -> ... -> hidden(last) -> output\n",
        "        with activation function(ReLU function)\n",
        "\n",
        "        Define the initial, hidden, and output layers\n",
        "        \"\"\"\n",
        "        for in_dim, out_dim in zip(hidden_dims[:-1], hidden_dims[1:]):\n",
        "            model += [nn.Linear(in_dim, out_dim), activation()]\n",
        "\n",
        "        model += [nn.Linear(hidden_dims[-1], output_dim)]\n",
        "        self.model = nn.Sequential(*model)\n",
        "\n",
        "        #################################################################\n",
        "\n",
        "        self.model = nn.Sequential(*model)\n",
        "\n",
        "    def forward(self, x: torch.Tensor) -> torch.Tensor:\n",
        "        return self.model(x)"
      ]
    },
    {
      "cell_type": "markdown",
      "metadata": {
        "id": "mCYo8RHilCU-"
      },
      "source": [
        "We can hence collect a bunch of samples $(s_t,a_t,r_t,s_{t+1})$, and compute the targets using the current network. Let the target be $d_i$ as the $i$-th target\n",
        "\n",
        "$$d_i = \\max_a r_t + \\gamma Q_\\theta(s_{t+1},a)$$\n",
        "\n",
        "And then feed this value into the computational graph and minimize the Bellman error loss. This procedure has been shown to be fairly unstable. The reference paper has offered two techniques to stabilize the training process: target network and replay buffer.\n",
        "\n",
        "#### **1. Replay Buffer**\n",
        "Maintain a buffer $R$ to store trainsition tuples $(s_t,a_t,r_t,s_{t+1})$, when we minimize the Bellman error. When optimizing the Bellman error loss, we sample batches from the replay buffer and compute gradients for update on these batches. In particular, in each update, we sample $N$ tuples from buffer $(s_t,a_t,r_t,s_{t+1}) \\sim R$ and then compute\n",
        "loss\n",
        "\n",
        "$$\\frac{1}{N} \\sum_{i=1}^N (Q_\\theta(s_i,a_i) - \\max_a (r_i + \\gamma Q_\\theta(s_i^\\prime,a))^2$$\n",
        "\n",
        "and update parameters using backprop.\n",
        "\n",
        "#### **2. Target Network**\n",
        "Maintain a target network in addition to the original pricipal network. The target network is just a copy of the original network but the parameters are not updated by gradients. The target network $\\theta_{\\text{target}}$ is updated for every $\\tau$ time steps.\n",
        "\n",
        "$$\\theta_{\\text{target}} \\leftarrow (1-\\tau)*\\theta_{\\text{target}} + \\tau * \\theta_{\\text{update}}$$\n",
        "\n",
        "Target network is used to compute the targets for update\n",
        "\n",
        "$$d_i = \\max_a r_t + \\gamma Q_{\\theta^{-}}(s_{i}^\\prime,a)$$\n",
        "\n",
        "the targets are used in the loss function to update the principal network parameters. This slowly updated target network ensures that the targets come from a relatively stationary distribution and hence stabilize learning."
      ]
    },
    {
      "cell_type": "code",
      "execution_count": null,
      "metadata": {
        "id": "t82T2sSxlCU-"
      },
      "outputs": [],
      "source": [
        "# Define the DQN agent\n",
        "class DQNAgent:\n",
        "    def __init__(\n",
        "        self,\n",
        "        q_network: nn.Module,\n",
        "        optimizer: optim.Optimizer,\n",
        "        input_dim: int,\n",
        "        output_dim: int,\n",
        "        epsilon_start: float,\n",
        "        epsilon_final: float,\n",
        "        epsilon_decay: float,\n",
        "        target_update: int, # target network 업데이트 주기\n",
        "        batch_size: int,\n",
        "        memory_capacity: int, # replay buffer 크기\n",
        "        gamma: float, # discount factor\n",
        "        tau: float # target network 업데이트 크기\n",
        "    ) -> None:\n",
        "        self.q_network, self.target_network = q_network, deepcopy(q_network)\n",
        "        self.target_network.eval()\n",
        "        self.optimizer = optimizer\n",
        "\n",
        "        self.input_dim = input_dim\n",
        "        self.output_dim = output_dim\n",
        "        self.epsilon = epsilon_start\n",
        "        self.epsilon_final = epsilon_final\n",
        "        self.epsilon_decay = epsilon_decay\n",
        "\n",
        "        self.target_update = target_update\n",
        "        self.batch_size = batch_size\n",
        "        self.memory_capacity = memory_capacity\n",
        "        self.gamma = gamma\n",
        "        self.tau = tau\n",
        "\n",
        "        self.memory = []\n",
        "        self.steps = 0\n",
        "\n",
        "    def select_action(self, state):\n",
        "        #################################################################\n",
        "        #                             TODO                              #\n",
        "        #################################################################\n",
        "        \"\"\"\n",
        "        With probability epsilon, select a random action a_t\n",
        "        Otherwise, select a_t = argmax_a Q(s, a | theta)\n",
        "        \"\"\"\n",
        "        if np.random.rand() < self.epsilon:\n",
        "          return np.random.choice(self.output_dim, 1)\n",
        "        else:\n",
        "          return torch.argmax(self.q_network(state))\n",
        "\n",
        "\n",
        "        #################################################################\n",
        "\n",
        "    def store_experience(self, state, action, reward, next_state, done):\n",
        "        self.memory.append((state, action, reward, next_state, done))\n",
        "        if len(self.memory) > self.memory_capacity:\n",
        "            self.memory.pop(0)\n",
        "\n",
        "    def train(self):\n",
        "        if len(self.memory) < self.batch_size:\n",
        "            return\n",
        "\n",
        "        # Sample a mini-batch from the replay memory\n",
        "        batch = random.sample(self.memory, self.batch_size)\n",
        "        states, actions, rewards, next_states, dones = zip(*batch)\n",
        "\n",
        "        states = torch.FloatTensor(states)\n",
        "        actions = torch.LongTensor(actions)\n",
        "        rewards = torch.FloatTensor(rewards)\n",
        "        next_states = torch.FloatTensor(next_states)\n",
        "        dones = torch.FloatTensor(dones)\n",
        "\n",
        "        #################################################################\n",
        "        #                             TODO                              #\n",
        "        #################################################################\n",
        "        \"\"\"\n",
        "        Compute Q-values for the current states\n",
        "        \"\"\"\n",
        "        q_values = self.q_network[states]\n",
        "        q_values = q_values[actions]\n",
        "\n",
        "        #################################################################\n",
        "\n",
        "        #################################################################\n",
        "        #                             TODO                              #\n",
        "        #################################################################\n",
        "        \"\"\"\n",
        "        Compute Q-values for the next states using the target network\n",
        "        \"\"\"\n",
        "        next_q_values = torch.max(self.target_network[next_states], dim=1)\n",
        "\n",
        "        #################################################################\n",
        "\n",
        "        #################################################################\n",
        "        #                             TODO                              #\n",
        "        #################################################################\n",
        "        \"\"\"\n",
        "        Compute the expected Q-values\n",
        "        \"\"\"\n",
        "        expected_q_values = rewards + self.gamma*next_q_values\n",
        "\n",
        "        #################################################################\n",
        "\n",
        "        # Compute the loss\n",
        "        loss = nn.MSELoss()(q_values, expected_q_values)\n",
        "\n",
        "        # Update the Q-network\n",
        "        self.optimizer.zero_grad()\n",
        "        loss.backward()\n",
        "        self.optimizer.step()\n",
        "\n",
        "        # Update epsilon for exploration\n",
        "        #################################################################\n",
        "        #                             TODO                              #\n",
        "        #################################################################\n",
        "        \"\"\"\n",
        "        Compute the decay epsilon\n",
        "        \"\"\"\n",
        "        self.epsilon = self.epsilon*self.epsilon_decay\n",
        "\n",
        "        self.steps += 1\n",
        "        #################################################################\n",
        "        #                             TODO                              #\n",
        "        #################################################################\n",
        "        \"\"\"\n",
        "        Update the target network every 'target_update' steps\n",
        "        \"\"\"\n",
        "        if self.steps % self.target_update == 0:\n",
        "            for t, q in zip(self.target_network.parameters(), self.q_network.parameters()):\n",
        "                t.data.copy_((1 - self.tau)*t + self.tau*q)\n",
        "\n",
        "        #################################################################\n",
        ""
      ]
    },
    {
      "cell_type": "code",
      "execution_count": null,
      "metadata": {
        "id": "9GNed6ORlCU-"
      },
      "outputs": [],
      "source": [
        "# Hyperparameters\n",
        "epsilon_start = 1.0  # Initial epsilon for epsilon-greedy exploration\n",
        "epsilon_final = 0.01  # Final epsilon\n",
        "epsilon_decay = 0.995  # Epsilon decay rate\n",
        "target_update = 10  # Update the target network every 'target_update' steps\n",
        "memory_capacity = 10000  # Replay memory capacity\n",
        "num_episodes = 200  # Number of episodes to train\n",
        "\n",
        "#################################################################\n",
        "#                             TODO                              #\n",
        "#################################################################\n",
        "lr = 1e-3  # Learning rate\n",
        "gamma = 0.99  # Discount factor\n",
        "tau = 0.1 # Parameters update factor\n",
        "batch_size = 64  # Mini-batch size\n",
        "hidden_dims = [20, 20] # Hidden layers\n",
        "#################################################################\n",
        "\n",
        "\n",
        "# Initialize the environment and the agent\n",
        "env = gym.make(\"CartPole-v1\", render_mode=\"rgb_array\")\n",
        "input_dim = env.observation_space.shape[0]\n",
        "output_dim = env.action_space.n\n",
        "\n",
        "q_network = QNetwork(input_dim, output_dim, hidden_dims)\n",
        "optimizer = optim.Adam(q_network.parameters(), lr=lr)\n",
        "agent = DQNAgent(\n",
        "    q_network=q_network,\n",
        "    optimizer=optimizer,\n",
        "    input_dim=input_dim,\n",
        "    output_dim=output_dim,\n",
        "    epsilon_start=epsilon_start,\n",
        "    epsilon_final=epsilon_final,\n",
        "    epsilon_decay=epsilon_decay,\n",
        "    target_update=target_update,\n",
        "    batch_size=batch_size,\n",
        "    memory_capacity=memory_capacity,\n",
        "    gamma=gamma,\n",
        "    tau=tau\n",
        ")\n",
        "\n",
        "record = []\n",
        "frames = []\n",
        "\n",
        "for episode in range(num_episodes):\n",
        "    state, _ = env.reset()\n",
        "    done = False\n",
        "    total_reward = 0\n",
        "\n",
        "    while not done:\n",
        "        action = agent.select_action(state)\n",
        "        next_state, reward, terminated, truncated, _ = env.step(action)\n",
        "        done = terminated or truncated\n",
        "\n",
        "        agent.store_experience(state, action, reward, next_state, done)\n",
        "        agent.train()\n",
        "        state = next_state\n",
        "        total_reward += reward\n",
        "\n",
        "        if episode == num_episodes - 1:\n",
        "            frames.append(env.render())\n",
        "\n",
        "    record.append(total_reward)\n",
        "    print(f\"Episode {episode + 1}, Total Reward: {total_reward}\")\n",
        "\n",
        "env.close()\n",
        "\n",
        "imageio.mimsave(\"cartpole_last.gif\", frames, fps=30)\n",
        "print(\"GIF saved as cartpole_last.gif\")\n",
        "\n",
        "plt.imshow(frames[0])\n",
        "plt.axis(\"off\")\n",
        "plt.show()"
      ]
    },
    {
      "cell_type": "code",
      "execution_count": null,
      "metadata": {
        "id": "hiH3XWLFlCU-"
      },
      "outputs": [],
      "source": [
        "# plot [episode, reward] history\n",
        "x = [i+1 for i in range(len(record))]\n",
        "plt.plot(x, record)\n",
        "plt.title('episode rewards')\n",
        "plt.xlabel('episodes')\n",
        "plt.ylabel('rewards')\n",
        "plt.show()"
      ]
    },
    {
      "cell_type": "code",
      "execution_count": null,
      "metadata": {
        "id": "msrPOB7clCU-"
      },
      "outputs": [],
      "source": [
        "# Hyperparameters\n",
        "epsilon_start = 1.0  # Initial epsilon for epsilon-greedy exploration\n",
        "epsilon_final = 0.01  # Final epsilon\n",
        "epsilon_decay = 0.995  # Epsilon decay rate\n",
        "target_update = 10  # Update the target network every 'target_update' steps\n",
        "memory_capacity = 10000  # Replay memory capacity\n",
        "num_episodes = 500  # Number of episodes to train\n",
        "\n",
        "#################################################################\n",
        "#                             TODO                              #\n",
        "#################################################################\n",
        "lr = 1e-3  # Learning rate\n",
        "gamma = 0.99  # Discount factor\n",
        "tau = 0.1 # Parameters update factor\n",
        "batch_size = 64  # Mini-batch size\n",
        "hidden_dims = [20, 20] # Hidden layers\n",
        "#################################################################\n",
        "\n",
        "\n",
        "# Initialize the environment and the agent\n",
        "env = gym.make(\"MountainCar-v0\", render_mode=\"rgb_array\")\n",
        "input_dim = env.observation_space.shape[0]\n",
        "output_dim = env.action_space.n\n",
        "\n",
        "q_network = QNetwork(input_dim, output_dim, hidden_dims)\n",
        "optimizer = optim.Adam(q_network.parameters(), lr=lr)\n",
        "agent = DQNAgent(\n",
        "    q_network=q_network,\n",
        "    optimizer=optimizer,\n",
        "    input_dim=input_dim,\n",
        "    output_dim=output_dim,\n",
        "    epsilon_start=epsilon_start,\n",
        "    epsilon_final=epsilon_final,\n",
        "    epsilon_decay=epsilon_decay,\n",
        "    target_update=target_update,\n",
        "    batch_size=batch_size,\n",
        "    memory_capacity=memory_capacity,\n",
        "    gamma=gamma,\n",
        "    tau=tau\n",
        ")\n",
        "\n",
        "record = []\n",
        "frames = []\n",
        "\n",
        "for episode in range(num_episodes):\n",
        "    state, _ = env.reset()\n",
        "    done = False\n",
        "    total_reward = 0\n",
        "\n",
        "    while not done:\n",
        "        action = agent.select_action(state)\n",
        "        next_state, reward, terminated, truncated, _ = env.step(action)\n",
        "        done = terminated or truncated\n",
        "\n",
        "        agent.store_experience(state, action, reward, next_state, done)\n",
        "        agent.train()\n",
        "        state = next_state\n",
        "        total_reward += reward\n",
        "\n",
        "        if episode == num_episodes - 1:\n",
        "            frames.append(env.render())\n",
        "\n",
        "    record.append(total_reward)\n",
        "    print(f\"Episode {episode + 1}, Total Reward: {total_reward}\")\n",
        "\n",
        "env.close()\n",
        "\n",
        "imageio.mimsave(\"MountainCar_last.gif\", frames, fps=30)\n",
        "print(\"GIF saved as MountainCar_last.gif\")\n",
        "\n",
        "plt.imshow(frames[0])\n",
        "plt.axis(\"off\")\n",
        "plt.show()"
      ]
    },
    {
      "cell_type": "code",
      "execution_count": null,
      "metadata": {
        "id": "26PDgL0mlCU_"
      },
      "outputs": [],
      "source": [
        "# plot [episode, reward] history\n",
        "x = [i+1 for i in range(len(record))]\n",
        "plt.plot(x, record)\n",
        "plt.title('episode rewards')\n",
        "plt.xlabel('episodes')\n",
        "plt.ylabel('rewards')\n",
        "plt.show()"
      ]
    }
  ],
  "metadata": {
    "accelerator": "GPU",
    "colab": {
      "name": "BAE Jae Yong_2019-15668_2281583_assignsubmission_file_Lab 3_BaeJaeyong.ipynb",
      "provenance": []
    },
    "kernelspec": {
      "display_name": "hyundai",
      "language": "python",
      "name": "python3"
    },
    "language_info": {
      "codemirror_mode": {
        "name": "ipython",
        "version": 3
      },
      "file_extension": ".py",
      "mimetype": "text/x-python",
      "name": "python",
      "nbconvert_exporter": "python",
      "pygments_lexer": "ipython3",
      "version": "3.9.23"
    }
  },
  "nbformat": 4,
  "nbformat_minor": 0
}